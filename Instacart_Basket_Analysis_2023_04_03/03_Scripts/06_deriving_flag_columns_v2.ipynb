{
 "cells": [
  {
   "cell_type": "markdown",
   "id": "3d62a3be",
   "metadata": {},
   "source": [
    "## Contents\n",
    "1. Importing libraries\n",
    "2. Reading data, setting up\n",
    "3. Grouping, aggregating, flagging data"
   ]
  },
  {
   "cell_type": "markdown",
   "id": "0a54b879",
   "metadata": {},
   "source": [
    "### 1. Importing libraries"
   ]
  },
  {
   "cell_type": "code",
   "execution_count": 1,
   "id": "9ef8a0dc",
   "metadata": {},
   "outputs": [],
   "source": [
    "# import libraries\n",
    "import pandas as pd\n",
    "import numpy as np\n",
    "import os"
   ]
  },
  {
   "cell_type": "markdown",
   "id": "bcbd9eed",
   "metadata": {},
   "source": [
    "### 2. Reading data, setting up"
   ]
  },
  {
   "cell_type": "code",
   "execution_count": 2,
   "id": "c79a7777",
   "metadata": {},
   "outputs": [],
   "source": [
    "# Task 1.\n",
    "# setting up filepath\n",
    "path = r'C:\\Users\\Richárd\\Desktop\\CareerFoundry\\Data Immersion\\Archievment 4\\Instacart_Basket_Analysis_2023_04_03\\02_Data\\Prepared_Data'\n",
    "ords_prods_merge = pd.read_pickle(os.path.join(path, 'merged_flagged_data.pkl'))"
   ]
  },
  {
   "cell_type": "markdown",
   "id": "29fbfa60",
   "metadata": {},
   "source": [
    "### Grouping, aggregating, flagging data"
   ]
  },
  {
   "cell_type": "code",
   "execution_count": 3,
   "id": "5ff03dc1",
   "metadata": {},
   "outputs": [
    {
     "data": {
      "text/plain": [
       "department_id\n",
       "1     15.457838\n",
       "2     17.277920\n",
       "3     17.170395\n",
       "4     17.811403\n",
       "5     15.215751\n",
       "6     16.439806\n",
       "7     17.225802\n",
       "8     15.340650\n",
       "9     15.895474\n",
       "10    20.197148\n",
       "11    16.170638\n",
       "12    15.887671\n",
       "13    16.583536\n",
       "14    16.773669\n",
       "15    16.165037\n",
       "16    17.665606\n",
       "17    15.694469\n",
       "18    19.310397\n",
       "19    17.177343\n",
       "20    16.473447\n",
       "21    22.902379\n",
       "Name: order_number, dtype: float64"
      ]
     },
     "execution_count": 3,
     "metadata": {},
     "output_type": "execute_result"
    }
   ],
   "source": [
    "# Task 2.\n",
    "# Mean number of orders grouped by department_id\n",
    "# plus some extra cleaning from 4.9.\n",
    "ords_prods_merge.loc[ords_prods_merge['prices'] > 100, 'prices'] = np.nan\n",
    "ords_prods_merge.groupby('department_id')['order_number'].mean()"
   ]
  },
  {
   "cell_type": "markdown",
   "id": "93077fe9",
   "metadata": {},
   "source": [
    "#### Task 3. Observations\n",
    "- more departments are represented\n",
    "- there is slightly more variance among the means\n",
    "- department 10 and 21 stand out as having significantly more average order numbers than the rest\n",
    "- there is no department that has significantly lower average amount of orders than the rest"
   ]
  },
  {
   "cell_type": "code",
   "execution_count": 4,
   "id": "ec10e4bc",
   "metadata": {},
   "outputs": [],
   "source": [
    "# Task 4. Flagging customers based on loyality\n",
    "# creating max_orders column based on grouping by user_id, aggregating max_order_numbers\n",
    "ords_prods_merge['max_orders'] = ords_prods_merge.groupby(['user_id'])['order_number'].transform(np.max)"
   ]
  },
  {
   "cell_type": "code",
   "execution_count": 5,
   "id": "3dca8ef5",
   "metadata": {},
   "outputs": [
    {
     "data": {
      "text/plain": [
       "Regular customer    15876776\n",
       "Loyal customer      10284093\n",
       "New customer         6243990\n",
       "Name: loyality_flag, dtype: int64"
      ]
     },
     "execution_count": 5,
     "metadata": {},
     "output_type": "execute_result"
    }
   ],
   "source": [
    "# looping through max_orders column, adding flags to a list\n",
    "# preferring looping to the loc method for readability and less function usage\n",
    "loyalities = []\n",
    "for x in ords_prods_merge['max_orders']:\n",
    "    if x > 40:\n",
    "        loyalities.append('Loyal customer')\n",
    "    elif x <= 40 and x > 10:\n",
    "        loyalities.append('Regular customer')\n",
    "    else:\n",
    "        loyalities.append('New customer')\n",
    "\n",
    "# creating loyality_flag column, adding the list as rows\n",
    "ords_prods_merge['loyality_flag'] = loyalities\n",
    "\n",
    "# Checking output\n",
    "ords_prods_merge['loyality_flag'].value_counts()"
   ]
  },
  {
   "cell_type": "code",
   "execution_count": 6,
   "id": "9103807d",
   "metadata": {},
   "outputs": [],
   "source": [
    "# if one wanted to do Task 4. with loc\n",
    "# ords_prods_merge.loc[ords_prods_merge['max_orders'] > 40, 'loyality_flag'] = 'Loyal customer'\n",
    "# ords_prods_merge.loc[(ords_prods_merge['max_orders'] > 10) & (ords_prods_merge['max_orders'] <= 40), 'loyality_flag'] = 'Regular customer'\n",
    "# ords_prods_merge.loc[ords_prods_merge['max_orders'] <= 10, 'loyality_flag'] = 'New customer'"
   ]
  },
  {
   "cell_type": "code",
   "execution_count": 7,
   "id": "98c36cef",
   "metadata": {},
   "outputs": [
    {
     "data": {
      "text/html": [
       "<div>\n",
       "<style scoped>\n",
       "    .dataframe tbody tr th:only-of-type {\n",
       "        vertical-align: middle;\n",
       "    }\n",
       "\n",
       "    .dataframe tbody tr th {\n",
       "        vertical-align: top;\n",
       "    }\n",
       "\n",
       "    .dataframe thead tr th {\n",
       "        text-align: left;\n",
       "    }\n",
       "\n",
       "    .dataframe thead tr:last-of-type th {\n",
       "        text-align: right;\n",
       "    }\n",
       "</style>\n",
       "<table border=\"1\" class=\"dataframe\">\n",
       "  <thead>\n",
       "    <tr>\n",
       "      <th></th>\n",
       "      <th colspan=\"4\" halign=\"left\">prices</th>\n",
       "    </tr>\n",
       "    <tr>\n",
       "      <th></th>\n",
       "      <th>min</th>\n",
       "      <th>max</th>\n",
       "      <th>mean</th>\n",
       "      <th>median</th>\n",
       "    </tr>\n",
       "    <tr>\n",
       "      <th>loyality_flag</th>\n",
       "      <th></th>\n",
       "      <th></th>\n",
       "      <th></th>\n",
       "      <th></th>\n",
       "    </tr>\n",
       "  </thead>\n",
       "  <tbody>\n",
       "    <tr>\n",
       "      <th>Loyal customer</th>\n",
       "      <td>1.0</td>\n",
       "      <td>25.0</td>\n",
       "      <td>7.773575</td>\n",
       "      <td>7.4</td>\n",
       "    </tr>\n",
       "    <tr>\n",
       "      <th>New customer</th>\n",
       "      <td>1.0</td>\n",
       "      <td>25.0</td>\n",
       "      <td>7.801206</td>\n",
       "      <td>7.4</td>\n",
       "    </tr>\n",
       "    <tr>\n",
       "      <th>Regular customer</th>\n",
       "      <td>1.0</td>\n",
       "      <td>25.0</td>\n",
       "      <td>7.798262</td>\n",
       "      <td>7.4</td>\n",
       "    </tr>\n",
       "  </tbody>\n",
       "</table>\n",
       "</div>"
      ],
      "text/plain": [
       "                 prices                       \n",
       "                    min   max      mean median\n",
       "loyality_flag                                 \n",
       "Loyal customer      1.0  25.0  7.773575    7.4\n",
       "New customer        1.0  25.0  7.801206    7.4\n",
       "Regular customer    1.0  25.0  7.798262    7.4"
      ]
     },
     "execution_count": 7,
     "metadata": {},
     "output_type": "execute_result"
    }
   ],
   "source": [
    "# Task 5. - average, min, max, price, grouped by loyality\n",
    "ords_prods_merge.groupby(['loyality_flag']).agg({'prices' : ['min', 'max', 'mean', 'median']})\n",
    "# There does not seem to be significant differences among the loyality groups\n"
   ]
  },
  {
   "cell_type": "code",
   "execution_count": 8,
   "id": "63f3c534",
   "metadata": {},
   "outputs": [],
   "source": [
    "# Task 6. Flagging users based on average spending\n",
    "# creating avg_spending column\n",
    "ords_prods_merge['avg_spending'] = ords_prods_merge.groupby(['user_id'])['prices'].transform(np.mean)\n"
   ]
  },
  {
   "cell_type": "code",
   "execution_count": 9,
   "id": "edfcbca5",
   "metadata": {},
   "outputs": [
    {
     "data": {
      "text/plain": [
       "Low spender     32285131\n",
       "High spender      119728\n",
       "Name: spending_flag, dtype: int64"
      ]
     },
     "execution_count": 9,
     "metadata": {},
     "output_type": "execute_result"
    }
   ],
   "source": [
    "# Looping through avg_spending, adding flags to a list\n",
    "spending_flags = []\n",
    "for spending in ords_prods_merge['avg_spending']:\n",
    "    if spending >= 10:\n",
    "        spending_flags.append('High spender')\n",
    "    else:\n",
    "        spending_flags.append('Low spender')\n",
    "\n",
    "# Creating spending flags column from list\n",
    "ords_prods_merge['spending_flag'] = spending_flags\n",
    "# Checking if it worked\n",
    "ords_prods_merge['spending_flag'].value_counts()"
   ]
  },
  {
   "cell_type": "code",
   "execution_count": 10,
   "id": "8e6c12b8",
   "metadata": {},
   "outputs": [],
   "source": [
    "# Task 7. Flagging customers based on order frequencies\n",
    "# creating median frequency column\n",
    "ords_prods_merge['median_days_between_orders'] = ords_prods_merge.groupby(['user_id'])['days_after_previous_order'].transform(np.median)"
   ]
  },
  {
   "cell_type": "code",
   "execution_count": 11,
   "id": "d6d9ec2d",
   "metadata": {},
   "outputs": [],
   "source": [
    "# Looping through median_days_between_orders, adding flags to list\n",
    "freq_flag = []\n",
    "for days in ords_prods_merge['median_days_between_orders']:\n",
    "    if days > 20:\n",
    "        freq_flag.append('Non-frequent customer')\n",
    "    elif days <= 20 and days > 10:\n",
    "        freq_flag.append('Regular customer')\n",
    "    else:\n",
    "        freq_flag.append('Frequent customer')\n",
    "\n",
    "# creating flag column\n",
    "ords_prods_merge['order_frequency_flag'] = freq_flag"
   ]
  },
  {
   "cell_type": "code",
   "execution_count": 12,
   "id": "3cd05c09",
   "metadata": {},
   "outputs": [
    {
     "data": {
      "text/plain": [
       "Frequent customer        21559858\n",
       "Regular customer          7208564\n",
       "Non-frequent customer     3636437\n",
       "Name: order_frequency_flag, dtype: int64"
      ]
     },
     "execution_count": 12,
     "metadata": {},
     "output_type": "execute_result"
    }
   ],
   "source": [
    "ords_prods_merge['order_frequency_flag'].value_counts()"
   ]
  },
  {
   "cell_type": "code",
   "execution_count": null,
   "id": "2ae1e5f2",
   "metadata": {},
   "outputs": [],
   "source": [
    "ords_prods_merge.to_pickle(os.path.join(path, 'merged_data_with_groupings.pkl'))"
   ]
  },
  {
   "cell_type": "code",
   "execution_count": null,
   "id": "63649a9b",
   "metadata": {},
   "outputs": [],
   "source": []
  },
  {
   "cell_type": "code",
   "execution_count": null,
   "id": "c99a77c1",
   "metadata": {},
   "outputs": [],
   "source": []
  },
  {
   "cell_type": "code",
   "execution_count": null,
   "id": "29d10be8",
   "metadata": {},
   "outputs": [],
   "source": []
  },
  {
   "cell_type": "code",
   "execution_count": null,
   "id": "20c010d7",
   "metadata": {},
   "outputs": [],
   "source": []
  },
  {
   "cell_type": "code",
   "execution_count": null,
   "id": "f766965e",
   "metadata": {},
   "outputs": [],
   "source": []
  },
  {
   "cell_type": "code",
   "execution_count": null,
   "id": "34655c7b",
   "metadata": {},
   "outputs": [],
   "source": []
  },
  {
   "cell_type": "code",
   "execution_count": null,
   "id": "41bc97b2",
   "metadata": {},
   "outputs": [],
   "source": []
  }
 ],
 "metadata": {
  "kernelspec": {
   "display_name": "Python 3 (ipykernel)",
   "language": "python",
   "name": "python3"
  },
  "language_info": {
   "codemirror_mode": {
    "name": "ipython",
    "version": 3
   },
   "file_extension": ".py",
   "mimetype": "text/x-python",
   "name": "python",
   "nbconvert_exporter": "python",
   "pygments_lexer": "ipython3",
   "version": "3.10.9"
  }
 },
 "nbformat": 4,
 "nbformat_minor": 5
}
