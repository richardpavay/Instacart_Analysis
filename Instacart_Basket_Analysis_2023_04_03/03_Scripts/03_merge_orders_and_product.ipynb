{
 "cells": [
  {
   "cell_type": "markdown",
   "id": "0487819e",
   "metadata": {},
   "source": [
    "### Import Libraries"
   ]
  },
  {
   "cell_type": "code",
   "execution_count": 8,
   "id": "75d8692e",
   "metadata": {},
   "outputs": [],
   "source": [
    "# import libraries\n",
    "import pandas as pd\n",
    "import numpy as np\n",
    "import os"
   ]
  },
  {
   "cell_type": "markdown",
   "id": "e534db6a",
   "metadata": {},
   "source": [
    "### Import data"
   ]
  },
  {
   "cell_type": "code",
   "execution_count": 9,
   "id": "05a596cb",
   "metadata": {},
   "outputs": [],
   "source": [
    "path = r'C:\\Users\\Richárd\\Desktop\\CareerFoundry\\Data Immersion\\Archievment 4\\Instacart_Basket_Analysis_2023_04_03\\02_Data'\n",
    "df_ords = pd.read_csv(os.path.join(path, 'Prepared_Data', 'orders_clean.csv'), index_col = False)\n",
    "df_ords_prior = pd.read_csv(os.path.join(path, 'Original_Data', 'order_products__prior.csv'))"
   ]
  },
  {
   "cell_type": "markdown",
   "id": "2f29c52b",
   "metadata": {},
   "source": [
    "### Checking DataFrames"
   ]
  },
  {
   "cell_type": "code",
   "execution_count": 10,
   "id": "b3896375",
   "metadata": {},
   "outputs": [
    {
     "data": {
      "text/plain": [
       "<bound method NDFrame.head of          Unnamed: 0.1  Unnamed: 0  order_id  user_id  order_number  \\\n",
       "0                   0           0   2539329        1             1   \n",
       "1                   1           1   2398795        1             2   \n",
       "2                   2           2    473747        1             3   \n",
       "3                   3           3   2254736        1             4   \n",
       "4                   4           4    431534        1             5   \n",
       "...               ...         ...       ...      ...           ...   \n",
       "3421078       3421078     3421078   2266710   206209            10   \n",
       "3421079       3421079     3421079   1854736   206209            11   \n",
       "3421080       3421080     3421080    626363   206209            12   \n",
       "3421081       3421081     3421081   2977660   206209            13   \n",
       "3421082       3421082     3421082    272231   206209            14   \n",
       "\n",
       "         orders_day_of_the_week  order_hour_of_day  days_after_previous_order  \n",
       "0                             2                  8                        NaN  \n",
       "1                             3                  7                       15.0  \n",
       "2                             3                 12                       21.0  \n",
       "3                             4                  7                       29.0  \n",
       "4                             4                 15                       28.0  \n",
       "...                         ...                ...                        ...  \n",
       "3421078                       5                 18                       29.0  \n",
       "3421079                       4                 10                       30.0  \n",
       "3421080                       1                 12                       18.0  \n",
       "3421081                       1                 12                        7.0  \n",
       "3421082                       6                 14                       30.0  \n",
       "\n",
       "[3421083 rows x 8 columns]>"
      ]
     },
     "execution_count": 10,
     "metadata": {},
     "output_type": "execute_result"
    }
   ],
   "source": [
    "df_ords.head"
   ]
  },
  {
   "cell_type": "code",
   "execution_count": 11,
   "id": "0f019527",
   "metadata": {},
   "outputs": [
    {
     "data": {
      "text/plain": [
       "<bound method NDFrame.head of           order_id  product_id  add_to_cart_order  reordered\n",
       "0                2       33120                  1          1\n",
       "1                2       28985                  2          1\n",
       "2                2        9327                  3          0\n",
       "3                2       45918                  4          1\n",
       "4                2       30035                  5          0\n",
       "...            ...         ...                ...        ...\n",
       "32434484   3421083       39678                  6          1\n",
       "32434485   3421083       11352                  7          0\n",
       "32434486   3421083        4600                  8          0\n",
       "32434487   3421083       24852                  9          1\n",
       "32434488   3421083        5020                 10          1\n",
       "\n",
       "[32434489 rows x 4 columns]>"
      ]
     },
     "execution_count": 11,
     "metadata": {},
     "output_type": "execute_result"
    }
   ],
   "source": [
    "df_ords_prior.head"
   ]
  },
  {
   "cell_type": "code",
   "execution_count": 12,
   "id": "1224f656",
   "metadata": {},
   "outputs": [
    {
     "data": {
      "text/plain": [
       "(3421083, 8)"
      ]
     },
     "execution_count": 12,
     "metadata": {},
     "output_type": "execute_result"
    }
   ],
   "source": [
    "df_ords.shape"
   ]
  },
  {
   "cell_type": "code",
   "execution_count": 13,
   "id": "97f15f91",
   "metadata": {},
   "outputs": [
    {
     "data": {
      "text/plain": [
       "(32434489, 4)"
      ]
     },
     "execution_count": 13,
     "metadata": {},
     "output_type": "execute_result"
    }
   ],
   "source": [
    "df_ords_prior.shape"
   ]
  },
  {
   "cell_type": "markdown",
   "id": "4ae15514",
   "metadata": {},
   "source": [
    "### Merge the two datasets"
   ]
  },
  {
   "cell_type": "code",
   "execution_count": 14,
   "id": "6a6c2411",
   "metadata": {},
   "outputs": [],
   "source": [
    "df_merged_large = df_ords.merge(df_ords_prior, on = 'order_id', indicator = True)"
   ]
  },
  {
   "cell_type": "code",
   "execution_count": 16,
   "id": "a573d6f0",
   "metadata": {},
   "outputs": [
    {
     "data": {
      "text/plain": [
       "both          32434489\n",
       "left_only            0\n",
       "right_only           0\n",
       "Name: _merge, dtype: int64"
      ]
     },
     "execution_count": 16,
     "metadata": {},
     "output_type": "execute_result"
    }
   ],
   "source": [
    "df_merged_large['_merge'].value_counts()"
   ]
  },
  {
   "cell_type": "code",
   "execution_count": 17,
   "id": "f98e1589",
   "metadata": {},
   "outputs": [],
   "source": [
    "df_merged_large.to_pickle(os.path.join(path, 'Prepared_Data', 'orders_products_combined.pkl'))"
   ]
  },
  {
   "cell_type": "code",
   "execution_count": null,
   "id": "8ed9b19f",
   "metadata": {},
   "outputs": [],
   "source": []
  },
  {
   "cell_type": "code",
   "execution_count": null,
   "id": "6ab46c11",
   "metadata": {},
   "outputs": [],
   "source": []
  },
  {
   "cell_type": "code",
   "execution_count": null,
   "id": "210fe883",
   "metadata": {},
   "outputs": [],
   "source": []
  },
  {
   "cell_type": "code",
   "execution_count": null,
   "id": "55989d3e",
   "metadata": {},
   "outputs": [],
   "source": []
  },
  {
   "cell_type": "code",
   "execution_count": null,
   "id": "09909cb0",
   "metadata": {},
   "outputs": [],
   "source": []
  },
  {
   "cell_type": "code",
   "execution_count": null,
   "id": "302658c9",
   "metadata": {},
   "outputs": [],
   "source": []
  },
  {
   "cell_type": "code",
   "execution_count": null,
   "id": "a8360e90",
   "metadata": {},
   "outputs": [],
   "source": []
  },
  {
   "cell_type": "code",
   "execution_count": null,
   "id": "948c4e03",
   "metadata": {},
   "outputs": [],
   "source": []
  }
 ],
 "metadata": {
  "kernelspec": {
   "display_name": "Python 3 (ipykernel)",
   "language": "python",
   "name": "python3"
  },
  "language_info": {
   "codemirror_mode": {
    "name": "ipython",
    "version": 3
   },
   "file_extension": ".py",
   "mimetype": "text/x-python",
   "name": "python",
   "nbconvert_exporter": "python",
   "pygments_lexer": "ipython3",
   "version": "3.10.9"
  }
 },
 "nbformat": 4,
 "nbformat_minor": 5
}
